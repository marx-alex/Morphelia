{
 "cells": [
  {
   "cell_type": "code",
   "execution_count": 1,
   "metadata": {
    "collapsed": true
   },
   "outputs": [],
   "source": [
    "%load_ext autoreload\n",
    "%autoreload 2\n",
    "\n",
    "from pathlib import Path\n",
    "import os\n",
    "\n",
    "import napari\n",
    "import numpy as np\n",
    "import matplotlib.pyplot as plt\n",
    "from skimage import io\n",
    "from skimage.transform import resize\n",
    "from skimage.exposure import rescale_intensity\n"
   ]
  },
  {
   "cell_type": "code",
   "execution_count": 2,
   "outputs": [],
   "source": [
    "dir = \"C:/Users/amarx/Desktop/livecell_NRCM/raw\"\n",
    "image_paths = list(Path(dir).rglob(\"*Membrane*.tif\"))"
   ],
   "metadata": {
    "collapsed": false,
    "pycharm": {
     "name": "#%%\n"
    }
   }
  },
  {
   "cell_type": "code",
   "execution_count": 3,
   "outputs": [],
   "source": [
    "imgs = [io.imread(image_path, as_gray=True) for image_path in image_paths]"
   ],
   "metadata": {
    "collapsed": false,
    "pycharm": {
     "name": "#%%\n"
    }
   }
  },
  {
   "cell_type": "code",
   "execution_count": 4,
   "outputs": [],
   "source": [
    "imgs = [resize(img, (512, 512)) for img in imgs]"
   ],
   "metadata": {
    "collapsed": false,
    "pycharm": {
     "name": "#%%\n"
    }
   }
  },
  {
   "cell_type": "code",
   "execution_count": 5,
   "outputs": [],
   "source": [
    "imgs = np.stack(imgs)"
   ],
   "metadata": {
    "collapsed": false,
    "pycharm": {
     "name": "#%%\n"
    }
   }
  },
  {
   "cell_type": "code",
   "execution_count": 34,
   "outputs": [],
   "source": [
    "from scipy.spatial.distance import cdist\n",
    "\n",
    "def dtw(source, query):\n",
    "    n, m = len(source), len(query)\n",
    "    cost = np.zeros((n+1, m+1))\n",
    "    cost[:, 0] = np.inf\n",
    "    cost[0, :] = np.inf\n",
    "    cost[0, 0] = 0\n",
    "\n",
    "    cost[1:, 1:] = cdist(source.reshape(-1, 1), query.reshape(-1, 1))\n",
    "\n",
    "    # adding minimum value to cost\n",
    "    for i in range(1, n+1):\n",
    "        for j in range(1, m+1):\n",
    "            min_val = np.min(\n",
    "                [cost[i-1, j],\n",
    "                 cost[i, j-1],\n",
    "                 cost[i-1, j-1]]\n",
    "            )\n",
    "            cost[i, j] = cost[i, j] + min_val\n",
    "\n",
    "    # traceback path of lowest cost\n",
    "    source_ixs, query_ixs = [n], [m]\n",
    "    while (n > 0) or (m > 0):\n",
    "        tb = np.argmin(\n",
    "            [cost[n-1, m],\n",
    "             cost[n, m-1],\n",
    "             cost[n-1, m-1]]\n",
    "        )\n",
    "\n",
    "        if tb == 0:\n",
    "            n = n - 1\n",
    "        elif tb == 1:\n",
    "            m = m - 1\n",
    "        else:\n",
    "            n = n - 1\n",
    "            m = m - 1\n",
    "\n",
    "        source_ixs.append(n)\n",
    "        query_ixs.append(m)\n",
    "\n",
    "    source_ixs.reverse()\n",
    "    query_ixs.reverse()\n",
    "    return np.array(source_ixs), np.array(query_ixs)"
   ],
   "metadata": {
    "collapsed": false,
    "pycharm": {
     "name": "#%%\n"
    }
   }
  },
  {
   "cell_type": "code",
   "execution_count": 28,
   "outputs": [],
   "source": [
    "from skimage.exposure import histogram\n",
    "\n",
    "img1 = imgs[0, ...]\n",
    "img2 = imgs[10, ...]\n",
    "\n",
    "hist1, ixs1 = histogram(img1)\n",
    "hist2, ixs2 = histogram(img2)"
   ],
   "metadata": {
    "collapsed": false,
    "pycharm": {
     "name": "#%%\n"
    }
   }
  },
  {
   "cell_type": "code",
   "execution_count": 35,
   "outputs": [],
   "source": [
    "dtw1, dtw2 = dtw(hist1, hist2)"
   ],
   "metadata": {
    "collapsed": false,
    "pycharm": {
     "name": "#%%\n"
    }
   }
  },
  {
   "cell_type": "code",
   "execution_count": 37,
   "outputs": [
    {
     "data": {
      "text/plain": "array([  0,   1,   2,   3,   3,   4,   5,   5,   6,   7,   7,   8,   9,\n        10,  10,  11,  12,  12,  13,  14,  15,  16,  17,  18,  19,  20,\n        21,  22,  23,  24,  25,  26,  27,  28,  29,  30,  31,  32,  33,\n        34,  35,  36,  37,  38,  39,  40,  41,  42,  43,  44,  45,  46,\n        47,  48,  49,  50,  51,  52,  53,  54,  55,  56,  57,  58,  59,\n        60,  61,  62,  63,  64,  65,  66,  67,  68,  69,  69,  70,  71,\n        72,  72,  72,  73,  74,  75,  76,  77,  78,  79,  80,  80,  81,\n        82,  83,  84,  85,  86,  86,  87,  88,  88,  89,  90,  91,  92,\n        93,  94,  95,  96,  97,  98,  99, 100, 101, 102, 103, 104, 105,\n       106, 107, 107, 108, 109, 110, 111, 112, 113, 114, 115, 115, 116,\n       117, 118, 119, 120, 121, 122, 123, 124, 124, 125, 126, 127, 128,\n       129, 130, 131, 132, 133, 134, 135, 136, 137, 138, 139, 140, 141,\n       142, 143, 144, 145, 145, 145, 146, 147, 148, 149, 150, 151, 152,\n       153, 154, 155, 156, 157, 158, 159, 160, 161, 162, 163, 164, 165,\n       166, 167, 167, 168, 169, 170, 171, 172, 173, 174, 175, 176, 177,\n       178, 179, 180, 181, 182, 183, 184, 185, 186, 187, 188, 189, 190,\n       191, 192, 193, 194, 195, 196, 197, 197, 198, 199, 200, 201, 202,\n       203, 204, 205, 206, 207, 207, 207, 207, 208, 209, 209, 210, 211,\n       212, 213, 214, 215, 216, 217, 218, 218, 218, 218, 218, 219, 220,\n       220, 220, 221, 221, 222, 223, 224, 225, 225, 226, 227, 228, 228,\n       229, 230, 230, 230, 230, 230, 230, 230, 231, 231, 231, 231, 232,\n       233, 234, 235, 236, 236, 236, 236, 236, 237, 237, 237, 238, 239,\n       240, 241, 242, 243, 244, 244, 244, 244, 244, 244, 244, 244, 244,\n       244, 244, 244, 244, 244, 244, 244, 244, 244, 244, 244, 244, 244,\n       244, 244, 244, 244, 244, 244, 244, 244, 244, 244, 244, 244, 244,\n       244, 244, 244, 244, 244, 244, 244, 244, 244, 244, 244, 244, 244,\n       244, 244, 244, 244, 244, 244, 244, 244, 244, 244, 244, 244, 244,\n       244, 245, 246, 247, 248, 249, 250, 251, 252, 253, 254, 255, 256])"
     },
     "execution_count": 37,
     "metadata": {},
     "output_type": "execute_result"
    }
   ],
   "source": [
    "dtw1"
   ],
   "metadata": {
    "collapsed": false,
    "pycharm": {
     "name": "#%%\n"
    }
   }
  },
  {
   "cell_type": "code",
   "execution_count": 38,
   "outputs": [
    {
     "data": {
      "text/plain": "array([  0,   1,   2,   3,   4,   5,   6,   7,   8,   9,  10,  11,  12,\n        13,  14,  15,  16,  17,  18,  19,  19,  20,  21,  22,  23,  23,\n        24,  25,  26,  27,  28,  29,  30,  30,  31,  32,  32,  32,  33,\n        34,  34,  35,  35,  36,  37,  38,  38,  39,  40,  41,  41,  42,\n        43,  43,  43,  44,  45,  46,  46,  46,  46,  47,  48,  48,  48,\n        49,  49,  49,  50,  50,  50,  50,  51,  51,  51,  52,  53,  54,\n        55,  56,  57,  58,  59,  59,  59,  60,  60,  61,  62,  63,  64,\n        65,  66,  67,  68,  69,  70,  71,  72,  73,  74,  74,  75,  76,\n        76,  76,  76,  76,  77,  78,  79,  80,  80,  81,  82,  83,  83,\n        84,  85,  86,  87,  88,  89,  90,  90,  90,  91,  91,  92,  93,\n        94,  94,  94,  94,  94,  94,  95,  96,  97,  98,  99, 100, 100,\n       100, 100, 101, 101, 102, 103, 104, 104, 105, 106, 107, 107, 108,\n       109, 110, 111, 112, 113, 114, 115, 115, 116, 117, 118, 118, 118,\n       118, 119, 119, 120, 120, 121, 122, 122, 123, 124, 125, 126, 126,\n       127, 128, 129, 129, 129, 129, 129, 129, 129, 129, 129, 129, 129,\n       129, 129, 130, 130, 130, 130, 130, 130, 130, 130, 131, 131, 131,\n       132, 132, 133, 134, 134, 134, 135, 136, 137, 137, 137, 138, 139,\n       139, 140, 141, 142, 143, 144, 145, 146, 147, 147, 148, 149, 150,\n       151, 152, 153, 154, 154, 155, 156, 157, 158, 159, 160, 160, 161,\n       162, 163, 164, 165, 166, 166, 166, 167, 168, 168, 168, 168, 169,\n       170, 171, 172, 173, 174, 175, 176, 177, 178, 179, 180, 181, 181,\n       182, 183, 184, 185, 186, 187, 188, 189, 190, 191, 192, 193, 193,\n       193, 193, 193, 193, 194, 195, 196, 197, 198, 199, 200, 201, 202,\n       203, 204, 205, 206, 207, 208, 209, 210, 211, 212, 213, 214, 215,\n       216, 217, 218, 219, 220, 221, 222, 223, 224, 225, 226, 227, 228,\n       229, 230, 231, 232, 233, 234, 235, 236, 237, 238, 239, 240, 241,\n       242, 243, 244, 245, 246, 247, 248, 249, 250, 251, 252, 253, 254,\n       255, 256, 256, 256, 256, 256, 256, 256, 256, 256, 256, 256, 256])"
     },
     "execution_count": 38,
     "metadata": {},
     "output_type": "execute_result"
    }
   ],
   "source": [
    "dtw2"
   ],
   "metadata": {
    "collapsed": false,
    "pycharm": {
     "name": "#%%\n"
    }
   }
  },
  {
   "cell_type": "code",
   "execution_count": 24,
   "outputs": [
    {
     "data": {
      "text/plain": "(array([4, 3, 2, 1, 1, 1, 0]), array([4, 3, 3, 3, 2, 1, 0]))"
     },
     "execution_count": 24,
     "metadata": {},
     "output_type": "execute_result"
    }
   ],
   "source": [
    "dtw(x, y)\n"
   ],
   "metadata": {
    "collapsed": false,
    "pycharm": {
     "name": "#%%\n"
    }
   }
  },
  {
   "cell_type": "code",
   "execution_count": 25,
   "outputs": [
    {
     "data": {
      "text/plain": "Viewer(axes=Axes(visible=False, labels=True, colored=True, dashed=False, arrows=True), camera=Camera(center=(0.0, 255.5, 255.5), zoom=1.59013671875, angles=(0.0, 0.0, 90.0), perspective=0.0, interactive=True), cursor=Cursor(position=(1.0, 1.0, 0.0), scaled=True, size=1, style=<CursorStyle.STANDARD: 'standard'>), dims=Dims(ndim=3, ndisplay=2, last_used=0, range=((0.0, 47.0, 1.0), (0.0, 512.0, 1.0), (0.0, 512.0, 1.0)), current_step=(23, 256, 256), order=(0, 1, 2), axis_labels=('0', '1', '2')), grid=GridCanvas(stride=1, shape=(-1, -1), enabled=False), layers=[<Image layer 'imgs' at 0x2469ce36b80>], scale_bar=ScaleBar(visible=False, colored=False, ticks=True, position=<Position.BOTTOM_RIGHT: 'bottom_right'>, font_size=10.0, unit=None), text_overlay=TextOverlay(visible=False, color=array([0.5, 0.5, 0.5, 1. ]), font_size=10.0, position=<TextOverlayPosition.TOP_LEFT: 'top_left'>, text=''), overlays=Overlays(interaction_box=InteractionBox(points=None, show=False, show_handle=False, show_vertices=False, selection_box_drag=None, selection_box_final=None, transform_start=<napari.utils.transforms.transforms.Affine object at 0x0000024693980EE0>, transform_drag=<napari.utils.transforms.transforms.Affine object at 0x00000246938F8BE0>, transform_final=<napari.utils.transforms.transforms.Affine object at 0x00000246938F8C10>, transform=<napari.utils.transforms.transforms.Affine object at 0x00000246938F8520>, allow_new_selection=True, selected_vertex=None)), help='', status='Ready', tooltip=Tooltip(visible=False, text=''), theme='dark', title='napari', mouse_move_callbacks=[<function InteractionBoxMouseBindings.initialize_mouse_events.<locals>.mouse_move at 0x000002469CE7F160>], mouse_drag_callbacks=[<function InteractionBoxMouseBindings.initialize_mouse_events.<locals>.mouse_drag at 0x000002469CE6AF70>], mouse_double_click_callbacks=[], mouse_wheel_callbacks=[<function dims_scroll at 0x00000246927370D0>], _persisted_mouse_event={}, _mouse_drag_gen={}, _mouse_wheel_gen={}, keymap={'Shift': <function InteractionBoxMouseBindings.initialize_key_events.<locals>.hold_to_lock_aspect_ratio at 0x000002469CE6A1F0>, 'Control-Shift-R': <function InteractionBoxMouseBindings._reset_active_layer_affine at 0x000002469CE6A430>, 'Control-Shift-A': <function InteractionBoxMouseBindings._transform_active_layer at 0x000002469CE6AAF0>})"
     },
     "execution_count": 25,
     "metadata": {},
     "output_type": "execute_result"
    }
   ],
   "source": [
    "napari.view_image(imgs)\n"
   ],
   "metadata": {
    "collapsed": false,
    "pycharm": {
     "name": "#%%\n"
    }
   }
  },
  {
   "cell_type": "markdown",
   "source": [
    "## Ratio method"
   ],
   "metadata": {
    "collapsed": false,
    "pycharm": {
     "name": "#%% md\n"
    }
   }
  },
  {
   "cell_type": "code",
   "execution_count": 16,
   "outputs": [],
   "source": [
    "from typing import Optional\n",
    "\n",
    "def ratio_correct(images: np.ndarray, background_intens: Optional[float] = None):\n",
    "    \"\"\"\n",
    "    images: Image stack of shape `N, H, W`.\n",
    "    \"\"\"\n",
    "    # cache image dtype\n",
    "    dtype = images.dtype\n",
    "\n",
    "    assert (\n",
    "        len(images.shape) == 3\n",
    "    ), f\"Expected 3d image stack, instead got {len(images.shape)} dimensions\"\n",
    "\n",
    "    if background_intens is not None:\n",
    "        assert (\n",
    "            0 <= background_intens <= 1\n",
    "        ), f\"`background_intens` expected to be between 0 and 1, instead got {background_intens}\"\n",
    "\n",
    "    # calculate the mean intensity for every frame\n",
    "    # store the intensity from the first frame\n",
    "    I_mean = np.mean(images, axis=(1, 2))\n",
    "    I_null = I_mean[0]\n",
    "\n",
    "    # get the ratio for every frame\n",
    "    if background_intens is None:\n",
    "        background_intens = 0\n",
    "    I_ratio = (I_null - background_intens) / (I_mean - background_intens)\n",
    "\n",
    "    # subtract background from every pixel\n",
    "    images = images - background_intens\n",
    "\n",
    "    # multiply every frame by its ratio\n",
    "    images = I_ratio.reshape(-1, 1, 1) * images\n",
    "    return rescale_intensity(images)\n",
    "\n"
   ],
   "metadata": {
    "collapsed": false,
    "pycharm": {
     "name": "#%%\n"
    }
   }
  },
  {
   "cell_type": "code",
   "execution_count": 62,
   "outputs": [],
   "source": [
    "t = np.random.randn(5, 10, 2)\n",
    "t[0, 0, :] = 1\n"
   ],
   "metadata": {
    "collapsed": false,
    "pycharm": {
     "name": "#%%\n"
    }
   }
  },
  {
   "cell_type": "code",
   "execution_count": 72,
   "outputs": [],
   "source": [
    "t = t.reshape(5, -1)\n",
    "hist = np.unique(t, axis=1, return_inverse=True, return_counts=True)"
   ],
   "metadata": {
    "collapsed": false,
    "pycharm": {
     "name": "#%%\n"
    }
   }
  },
  {
   "cell_type": "code",
   "execution_count": 74,
   "outputs": [
    {
     "data": {
      "text/plain": "(array([-1.99883136, -1.65615604, -1.64384781, -0.94255293, -0.87838359,\n        -0.75151743, -0.69459641, -0.50375603, -0.50009564, -0.20078476,\n        -0.13146188,  0.27919098,  0.28545618,  0.50507685,  1.        ,\n         1.11402096,  1.26564643,  1.31825504,  1.5590659 ]),\n array([1, 1, 1, 1, 1, 1, 1, 1, 1, 1, 1, 1, 1, 1, 2, 1, 1, 1, 1],\n       dtype=int64))"
     },
     "execution_count": 74,
     "metadata": {},
     "output_type": "execute_result"
    }
   ],
   "source": [
    "np.unique(t[0, ...], return_counts=True)"
   ],
   "metadata": {
    "collapsed": false,
    "pycharm": {
     "name": "#%%\n"
    }
   }
  },
  {
   "cell_type": "code",
   "execution_count": 75,
   "outputs": [
    {
     "data": {
      "text/plain": "4"
     },
     "execution_count": 75,
     "metadata": {},
     "output_type": "execute_result"
    }
   ],
   "source": [
    "test = [1, 2, 3, 4, 5]\n",
    "test[3]"
   ],
   "metadata": {
    "collapsed": false,
    "pycharm": {
     "name": "#%%\n"
    }
   }
  },
  {
   "cell_type": "code",
   "execution_count": 14,
   "outputs": [
    {
     "data": {
      "text/plain": "(10,)"
     },
     "execution_count": 14,
     "metadata": {},
     "output_type": "execute_result"
    }
   ],
   "source": [
    "t = np.random.randn(10, 8, 2)\n",
    "np.mean(t, axis=(1, 2)).shape"
   ],
   "metadata": {
    "collapsed": false,
    "pycharm": {
     "name": "#%%\n"
    }
   }
  }
 ],
 "metadata": {
  "kernelspec": {
   "name": "morphelia",
   "language": "python",
   "display_name": "morphelia"
  },
  "language_info": {
   "codemirror_mode": {
    "name": "ipython",
    "version": 2
   },
   "file_extension": ".py",
   "mimetype": "text/x-python",
   "name": "python",
   "nbconvert_exporter": "python",
   "pygments_lexer": "ipython2",
   "version": "2.7.6"
  }
 },
 "nbformat": 4,
 "nbformat_minor": 0
}
